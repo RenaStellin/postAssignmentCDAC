{
 "cells": [
  {
   "cell_type": "code",
   "execution_count": 3,
   "metadata": {},
   "outputs": [
    {
     "name": "stdout",
     "output_type": "stream",
     "text": [
      "Enter the input which needs to be classified\n",
      "Input the radius: 3\n",
      "Input the weight: 10\n",
      "[['a', 0.0, 0.0], ['a', 0.20000000000000018, 1.0], ['a', 0.2999999999999998, 0.5], ['a', 0.20000000000000018, 1.1999999999999993], ['a', 0.10000000000000009, 0.5], ['w', 4.0, 15.0], ['w', 4.2, 17.0], ['w', 5.0, 18.0], ['w', 4.5, 19.0], ['w', 4.3, 20.0], ['g', 2.5, 9.0], ['g', 2.3, 8.0], ['g', 2.2, 8.5], ['g', 2.1, 7.8], ['g', 2.4, 8.7]]\n",
      "Enter the attribute with greater weight(r/w)w\n",
      "[['a', 0.0, 0.0], ['a', 0.2999999999999998, 0.5], ['a', 0.10000000000000009, 0.5], ['a', 0.20000000000000018, 1.0], ['a', 0.20000000000000018, 1.1999999999999993], ['g', 2.1, 7.8], ['g', 2.3, 8.0], ['g', 2.2, 8.5], ['g', 2.4, 8.7], ['g', 2.5, 9.0], ['w', 4.0, 15.0], ['w', 4.2, 17.0], ['w', 5.0, 18.0], ['w', 4.5, 19.0], ['w', 4.3, 20.0]]\n",
      "['a', 'a', 'a']\n",
      "a\n"
     ]
    }
   ],
   "source": [
    "dataset=[['a',3,10],['a',3.2,11],['a',2.7,9.5],['a',3.2,11.2],['a',2.9,10.5],['w',7,25],['w',7.2,27],['w',8,28],['w',7.5,29],['w',7.3,30],['g',0.5,1],['g',0.7,2],['g',0.8,1.5],['g',0.9,2.2],['g',0.6,1.3]]\n",
    "print(\"Enter the input which needs to be classified\")\n",
    "findCategory=[]\n",
    "temp=[]\n",
    "findCategory.append(float(input(\"Input the radius: \")))\n",
    "findCategory.append(float(input(\"Input the weight: \")))\n",
    "for i in range(len(dataset)): # for traversing outer list\n",
    "    temp.append([])\n",
    "    temp[i].append(dataset[i][0])\n",
    "    for j in range(1,len(dataset[0])): # for traversing inner list\n",
    "        temp[i].append(abs(dataset[i][j]-findCategory[j-1]))\n",
    "print(temp)\n",
    "weight=input(\"Enter the attribute with greater weight(r/w)\")\n",
    "if weight=='r':\n",
    "    temp.sort(key=lambda x: x[1])\n",
    "    print(temp)\n",
    "else:\n",
    "    temp.sort(key=lambda x: x[2])\n",
    "    print(temp)\n",
    "def findKNNLables(List,n):\n",
    " lableGot=[]\n",
    " for i in range(n):\n",
    "   lableGot.append(temp[i][0])\n",
    " return lableGot\n",
    "k=3\n",
    "r=findKNNLables(temp,k)\n",
    "if len(set(findKNNLables(temp,k))) == len(findKNNLables(temp,k)):\n",
    " r=findKNNLables(temp,k+1)\n",
    "print(r)\n",
    "def most_frequent(List):\n",
    "    return max(set(List), key = List.count)\n",
    "print(most_frequent(r))"
   ]
  },
  {
   "cell_type": "code",
   "execution_count": null,
   "metadata": {},
   "outputs": [],
   "source": []
  }
 ],
 "metadata": {
  "kernelspec": {
   "display_name": "Python 3",
   "language": "python",
   "name": "python3"
  },
  "language_info": {
   "codemirror_mode": {
    "name": "ipython",
    "version": 3
   },
   "file_extension": ".py",
   "mimetype": "text/x-python",
   "name": "python",
   "nbconvert_exporter": "python",
   "pygments_lexer": "ipython3",
   "version": "3.7.3"
  }
 },
 "nbformat": 4,
 "nbformat_minor": 2
}
