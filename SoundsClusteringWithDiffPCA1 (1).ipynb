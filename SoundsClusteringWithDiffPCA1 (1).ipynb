{
 "cells": [
  {
   "cell_type": "code",
   "execution_count": 13,
   "metadata": {},
   "outputs": [],
   "source": [
    "import os\n",
    "import pandas as pd\n",
    "import numpy as np\n",
    "from sklearn.cluster import KMeans\n",
    "from sklearn.metrics import mean_squared_error\n",
    "from math import sqrt\n",
    "from sklearn.decomposition import PCA\n",
    "from sklearn.metrics import davies_bouldin_score"
   ]
  },
  {
   "cell_type": "code",
   "execution_count": 4,
   "metadata": {},
   "outputs": [
    {
     "name": "stdout",
     "output_type": "stream",
     "text": [
      "(2000, 7)\n"
     ]
    }
   ],
   "source": [
    "dfLabel=pd.read_csv(\"esc50_labels.csv\")\n",
    "print(dfLabel.shape)"
   ]
  },
  {
   "cell_type": "code",
   "execution_count": 5,
   "metadata": {},
   "outputs": [
    {
     "data": {
      "text/html": [
       "<div>\n",
       "<style scoped>\n",
       "    .dataframe tbody tr th:only-of-type {\n",
       "        vertical-align: middle;\n",
       "    }\n",
       "\n",
       "    .dataframe tbody tr th {\n",
       "        vertical-align: top;\n",
       "    }\n",
       "\n",
       "    .dataframe thead th {\n",
       "        text-align: right;\n",
       "    }\n",
       "</style>\n",
       "<table border=\"1\" class=\"dataframe\">\n",
       "  <thead>\n",
       "    <tr style=\"text-align: right;\">\n",
       "      <th></th>\n",
       "      <th>filename</th>\n",
       "      <th>target</th>\n",
       "    </tr>\n",
       "  </thead>\n",
       "  <tbody>\n",
       "    <tr>\n",
       "      <td>0</td>\n",
       "      <td>1-100032-A-0.wav</td>\n",
       "      <td>0</td>\n",
       "    </tr>\n",
       "    <tr>\n",
       "      <td>1</td>\n",
       "      <td>1-100038-A-14.wav</td>\n",
       "      <td>14</td>\n",
       "    </tr>\n",
       "    <tr>\n",
       "      <td>2</td>\n",
       "      <td>1-100210-A-36.wav</td>\n",
       "      <td>36</td>\n",
       "    </tr>\n",
       "    <tr>\n",
       "      <td>3</td>\n",
       "      <td>1-100210-B-36.wav</td>\n",
       "      <td>36</td>\n",
       "    </tr>\n",
       "    <tr>\n",
       "      <td>4</td>\n",
       "      <td>1-101296-A-19.wav</td>\n",
       "      <td>19</td>\n",
       "    </tr>\n",
       "    <tr>\n",
       "      <td>...</td>\n",
       "      <td>...</td>\n",
       "      <td>...</td>\n",
       "    </tr>\n",
       "    <tr>\n",
       "      <td>1995</td>\n",
       "      <td>5-263831-B-6.wav</td>\n",
       "      <td>6</td>\n",
       "    </tr>\n",
       "    <tr>\n",
       "      <td>1996</td>\n",
       "      <td>5-263902-A-36.wav</td>\n",
       "      <td>36</td>\n",
       "    </tr>\n",
       "    <tr>\n",
       "      <td>1997</td>\n",
       "      <td>5-51149-A-25.wav</td>\n",
       "      <td>25</td>\n",
       "    </tr>\n",
       "    <tr>\n",
       "      <td>1998</td>\n",
       "      <td>5-61635-A-8.wav</td>\n",
       "      <td>8</td>\n",
       "    </tr>\n",
       "    <tr>\n",
       "      <td>1999</td>\n",
       "      <td>5-9032-A-0.wav</td>\n",
       "      <td>0</td>\n",
       "    </tr>\n",
       "  </tbody>\n",
       "</table>\n",
       "<p>2000 rows × 2 columns</p>\n",
       "</div>"
      ],
      "text/plain": [
       "               filename  target\n",
       "0      1-100032-A-0.wav       0\n",
       "1     1-100038-A-14.wav      14\n",
       "2     1-100210-A-36.wav      36\n",
       "3     1-100210-B-36.wav      36\n",
       "4     1-101296-A-19.wav      19\n",
       "...                 ...     ...\n",
       "1995   5-263831-B-6.wav       6\n",
       "1996  5-263902-A-36.wav      36\n",
       "1997   5-51149-A-25.wav      25\n",
       "1998    5-61635-A-8.wav       8\n",
       "1999     5-9032-A-0.wav       0\n",
       "\n",
       "[2000 rows x 2 columns]"
      ]
     },
     "execution_count": 5,
     "metadata": {},
     "output_type": "execute_result"
    }
   ],
   "source": [
    "dfLabel[[\"filename\",\"target\"]]"
   ]
  },
  {
   "cell_type": "code",
   "execution_count": 6,
   "metadata": {},
   "outputs": [
    {
     "name": "stdout",
     "output_type": "stream",
     "text": [
      "(2000,)\n"
     ]
    }
   ],
   "source": [
    "#This is for testing the accuracy of the kmeans model\n",
    "Y=dfLabel[\"target\"]\n",
    "print(Y.shape)"
   ]
  },
  {
   "cell_type": "code",
   "execution_count": null,
   "metadata": {},
   "outputs": [],
   "source": [
    "'''import zipfile as zf\n",
    "files = zf.ZipFile(\"esc_wav_csv.zip\", 'r')\n",
    "files.extractall(\"SoundCSV/\")\n",
    "files.close()'''"
   ]
  },
  {
   "cell_type": "code",
   "execution_count": 7,
   "metadata": {},
   "outputs": [
    {
     "name": "stdout",
     "output_type": "stream",
     "text": [
      "(6732,)\n"
     ]
    }
   ],
   "source": [
    "path=\"SoundCSV/\"\n",
    "data = []\n",
    "for file in os.listdir(path):\n",
    "  if file.endswith(\"csv\"):\n",
    "    #print(file)\n",
    "    df = pd.read_csv(path+file)\n",
    "    #print(df.shape)\n",
    "    row = df.to_numpy().flatten()\n",
    "    #print(row.shape)\n",
    "    data.append(row)\n",
    "print(row.shape)"
   ]
  },
  {
   "cell_type": "code",
   "execution_count": 8,
   "metadata": {},
   "outputs": [
    {
     "data": {
      "text/html": [
       "<div>\n",
       "<style scoped>\n",
       "    .dataframe tbody tr th:only-of-type {\n",
       "        vertical-align: middle;\n",
       "    }\n",
       "\n",
       "    .dataframe tbody tr th {\n",
       "        vertical-align: top;\n",
       "    }\n",
       "\n",
       "    .dataframe thead th {\n",
       "        text-align: right;\n",
       "    }\n",
       "</style>\n",
       "<table border=\"1\" class=\"dataframe\">\n",
       "  <thead>\n",
       "    <tr style=\"text-align: right;\">\n",
       "      <th></th>\n",
       "      <th>0</th>\n",
       "      <th>1</th>\n",
       "      <th>2</th>\n",
       "      <th>3</th>\n",
       "      <th>4</th>\n",
       "      <th>5</th>\n",
       "      <th>6</th>\n",
       "      <th>7</th>\n",
       "      <th>8</th>\n",
       "      <th>9</th>\n",
       "      <th>...</th>\n",
       "      <th>6722</th>\n",
       "      <th>6723</th>\n",
       "      <th>6724</th>\n",
       "      <th>6725</th>\n",
       "      <th>6726</th>\n",
       "      <th>6727</th>\n",
       "      <th>6728</th>\n",
       "      <th>6729</th>\n",
       "      <th>6730</th>\n",
       "      <th>6731</th>\n",
       "    </tr>\n",
       "  </thead>\n",
       "  <tbody>\n",
       "    <tr>\n",
       "      <td>0</td>\n",
       "      <td>0.000000</td>\n",
       "      <td>2.235289e-14</td>\n",
       "      <td>0.053813</td>\n",
       "      <td>0.000907</td>\n",
       "      <td>5.051140e-09</td>\n",
       "      <td>0.000150</td>\n",
       "      <td>0.000000</td>\n",
       "      <td>0.000000</td>\n",
       "      <td>-50.596443</td>\n",
       "      <td>0.000000</td>\n",
       "      <td>...</td>\n",
       "      <td>0.000000</td>\n",
       "      <td>0.000000</td>\n",
       "      <td>0.000000</td>\n",
       "      <td>0.000000</td>\n",
       "      <td>0.000000</td>\n",
       "      <td>0.000000</td>\n",
       "      <td>0.000000</td>\n",
       "      <td>0.000000</td>\n",
       "      <td>0.000000</td>\n",
       "      <td>0.000000</td>\n",
       "    </tr>\n",
       "    <tr>\n",
       "      <td>1</td>\n",
       "      <td>0.157895</td>\n",
       "      <td>7.549192e-02</td>\n",
       "      <td>2.431285</td>\n",
       "      <td>0.223691</td>\n",
       "      <td>1.701751e-01</td>\n",
       "      <td>0.213228</td>\n",
       "      <td>0.019754</td>\n",
       "      <td>0.154265</td>\n",
       "      <td>-26.670800</td>\n",
       "      <td>-0.776696</td>\n",
       "      <td>...</td>\n",
       "      <td>-0.005483</td>\n",
       "      <td>-0.000024</td>\n",
       "      <td>-0.002919</td>\n",
       "      <td>-0.000393</td>\n",
       "      <td>-0.002346</td>\n",
       "      <td>-0.005471</td>\n",
       "      <td>-0.003461</td>\n",
       "      <td>-0.001098</td>\n",
       "      <td>-0.000763</td>\n",
       "      <td>-0.000730</td>\n",
       "    </tr>\n",
       "    <tr>\n",
       "      <td>2</td>\n",
       "      <td>0.048548</td>\n",
       "      <td>1.885743e-02</td>\n",
       "      <td>3.307641</td>\n",
       "      <td>0.182539</td>\n",
       "      <td>1.924135e-01</td>\n",
       "      <td>0.561180</td>\n",
       "      <td>0.010619</td>\n",
       "      <td>0.089837</td>\n",
       "      <td>-24.456062</td>\n",
       "      <td>1.277373</td>\n",
       "      <td>...</td>\n",
       "      <td>0.001019</td>\n",
       "      <td>0.000022</td>\n",
       "      <td>-0.000842</td>\n",
       "      <td>-0.035806</td>\n",
       "      <td>-0.000517</td>\n",
       "      <td>0.000041</td>\n",
       "      <td>-0.001649</td>\n",
       "      <td>0.002182</td>\n",
       "      <td>-0.000301</td>\n",
       "      <td>-0.007695</td>\n",
       "    </tr>\n",
       "    <tr>\n",
       "      <td>3</td>\n",
       "      <td>0.219147</td>\n",
       "      <td>1.013393e-01</td>\n",
       "      <td>3.307393</td>\n",
       "      <td>0.214531</td>\n",
       "      <td>1.891372e-01</td>\n",
       "      <td>1.243201</td>\n",
       "      <td>0.000831</td>\n",
       "      <td>0.228675</td>\n",
       "      <td>-22.360597</td>\n",
       "      <td>0.456002</td>\n",
       "      <td>...</td>\n",
       "      <td>-0.001488</td>\n",
       "      <td>-0.000422</td>\n",
       "      <td>0.000560</td>\n",
       "      <td>0.008336</td>\n",
       "      <td>-0.000733</td>\n",
       "      <td>0.017195</td>\n",
       "      <td>0.000085</td>\n",
       "      <td>-0.000496</td>\n",
       "      <td>-0.000004</td>\n",
       "      <td>0.003933</td>\n",
       "    </tr>\n",
       "    <tr>\n",
       "      <td>4</td>\n",
       "      <td>0.044011</td>\n",
       "      <td>1.339201e-03</td>\n",
       "      <td>2.975631</td>\n",
       "      <td>0.126670</td>\n",
       "      <td>1.835794e-01</td>\n",
       "      <td>0.273319</td>\n",
       "      <td>0.004558</td>\n",
       "      <td>0.029038</td>\n",
       "      <td>-27.125221</td>\n",
       "      <td>2.987486</td>\n",
       "      <td>...</td>\n",
       "      <td>0.006159</td>\n",
       "      <td>0.018529</td>\n",
       "      <td>-0.015213</td>\n",
       "      <td>-0.023494</td>\n",
       "      <td>0.000488</td>\n",
       "      <td>-0.008994</td>\n",
       "      <td>-0.008308</td>\n",
       "      <td>0.002103</td>\n",
       "      <td>0.002615</td>\n",
       "      <td>0.001766</td>\n",
       "    </tr>\n",
       "  </tbody>\n",
       "</table>\n",
       "<p>5 rows × 6732 columns</p>\n",
       "</div>"
      ],
      "text/plain": [
       "       0             1         2         3             4         5     \\\n",
       "0  0.000000  2.235289e-14  0.053813  0.000907  5.051140e-09  0.000150   \n",
       "1  0.157895  7.549192e-02  2.431285  0.223691  1.701751e-01  0.213228   \n",
       "2  0.048548  1.885743e-02  3.307641  0.182539  1.924135e-01  0.561180   \n",
       "3  0.219147  1.013393e-01  3.307393  0.214531  1.891372e-01  1.243201   \n",
       "4  0.044011  1.339201e-03  2.975631  0.126670  1.835794e-01  0.273319   \n",
       "\n",
       "       6         7          8         9     ...      6722      6723      6724  \\\n",
       "0  0.000000  0.000000 -50.596443  0.000000  ...  0.000000  0.000000  0.000000   \n",
       "1  0.019754  0.154265 -26.670800 -0.776696  ... -0.005483 -0.000024 -0.002919   \n",
       "2  0.010619  0.089837 -24.456062  1.277373  ...  0.001019  0.000022 -0.000842   \n",
       "3  0.000831  0.228675 -22.360597  0.456002  ... -0.001488 -0.000422  0.000560   \n",
       "4  0.004558  0.029038 -27.125221  2.987486  ...  0.006159  0.018529 -0.015213   \n",
       "\n",
       "       6725      6726      6727      6728      6729      6730      6731  \n",
       "0  0.000000  0.000000  0.000000  0.000000  0.000000  0.000000  0.000000  \n",
       "1 -0.000393 -0.002346 -0.005471 -0.003461 -0.001098 -0.000763 -0.000730  \n",
       "2 -0.035806 -0.000517  0.000041 -0.001649  0.002182 -0.000301 -0.007695  \n",
       "3  0.008336 -0.000733  0.017195  0.000085 -0.000496 -0.000004  0.003933  \n",
       "4 -0.023494  0.000488 -0.008994 -0.008308  0.002103  0.002615  0.001766  \n",
       "\n",
       "[5 rows x 6732 columns]"
      ]
     },
     "execution_count": 8,
     "metadata": {},
     "output_type": "execute_result"
    }
   ],
   "source": [
    "df= pd.DataFrame(data,columns=range(6732))\n",
    "df.head()"
   ]
  },
  {
   "cell_type": "code",
   "execution_count": 36,
   "metadata": {},
   "outputs": [
    {
     "data": {
      "text/plain": [
       "(2000, 6732)"
      ]
     },
     "execution_count": 36,
     "metadata": {},
     "output_type": "execute_result"
    }
   ],
   "source": [
    "df.shape"
   ]
  },
  {
   "cell_type": "code",
   "execution_count": 33,
   "metadata": {},
   "outputs": [],
   "source": [
    "X = np.array(df)\n",
    "model = KMeans(n_clusters=50, random_state=0).fit(X)\n",
    "labels = model.labels_\n",
    "#Y_predict = model.predict(X)"
   ]
  },
  {
   "cell_type": "code",
   "execution_count": 34,
   "metadata": {},
   "outputs": [
    {
     "data": {
      "text/plain": [
       "(2000, 6732)"
      ]
     },
     "execution_count": 34,
     "metadata": {},
     "output_type": "execute_result"
    }
   ],
   "source": [
    "X.shape"
   ]
  },
  {
   "cell_type": "code",
   "execution_count": 35,
   "metadata": {},
   "outputs": [
    {
     "data": {
      "text/plain": [
       "2.3481303848773294"
      ]
     },
     "execution_count": 35,
     "metadata": {},
     "output_type": "execute_result"
    }
   ],
   "source": [
    "davies_bouldin_score(X,labels)"
   ]
  },
  {
   "cell_type": "code",
   "execution_count": 32,
   "metadata": {},
   "outputs": [
    {
     "name": "stdout",
     "output_type": "stream",
     "text": [
      "(2000, 230)\n",
      "2.231850950610742\n"
     ]
    }
   ],
   "source": [
    "X = np.array(df)  \n",
    "pca = PCA(n_components = 0.98) \n",
    "pca_model = pca.fit(X) \n",
    "X = pca_model.transform(X)\n",
    "print(X.shape)\n",
    "model = KMeans(n_clusters=50, random_state=0).fit(X)\n",
    "labels = model.labels_\n",
    "print(davies_bouldin_score(X,labels))"
   ]
  },
  {
   "cell_type": "code",
   "execution_count": 25,
   "metadata": {},
   "outputs": [
    {
     "name": "stdout",
     "output_type": "stream",
     "text": [
      "(2000, 79)\n",
      "2.061145453834961\n"
     ]
    }
   ],
   "source": [
    "X = np.array(df)  \n",
    "pca = PCA(n_components = 0.95) \n",
    "pca_model = pca.fit(X) \n",
    "X = pca_model.transform(X)\n",
    "print(X.shape)\n",
    "#X_test = pca_model.transform(X_test)\n",
    "model = KMeans(n_clusters=50, random_state=0).fit(X)\n",
    "labels = model.labels_\n",
    "print(davies_bouldin_score(X,labels))"
   ]
  },
  {
   "cell_type": "code",
   "execution_count": 28,
   "metadata": {},
   "outputs": [
    {
     "name": "stdout",
     "output_type": "stream",
     "text": [
      "(2000, 5)\n",
      "1.1733492892451283\n"
     ]
    }
   ],
   "source": [
    "X = np.array(df)  \n",
    "pca = PCA(n_components = 0.80) \n",
    "pca_model = pca.fit(X) \n",
    "X = pca_model.transform(X)\n",
    "print(X.shape)\n",
    "#X_test = pca_model.transform(X_test)\n",
    "model = KMeans(n_clusters=50, random_state=0).fit(X)\n",
    "labels = model.labels_\n",
    "print(davies_bouldin_score(X,labels))"
   ]
  },
  {
   "cell_type": "code",
   "execution_count": 26,
   "metadata": {},
   "outputs": [
    {
     "name": "stdout",
     "output_type": "stream",
     "text": [
      "(2000, 1)\n",
      "0.4833026014648659\n"
     ]
    }
   ],
   "source": [
    "X = np.array(df)  \n",
    "pca = PCA(n_components = 0.50) \n",
    "pca_model = pca.fit(X) \n",
    "X = pca_model.transform(X)\n",
    "print(X.shape)\n",
    "#X_test = pca_model.transform(X_test)\n",
    "model = KMeans(n_clusters=50, random_state=0).fit(X)\n",
    "labels = model.labels_\n",
    "print(davies_bouldin_score(X,labels))"
   ]
  },
  {
   "cell_type": "code",
   "execution_count": 29,
   "metadata": {},
   "outputs": [
    {
     "name": "stdout",
     "output_type": "stream",
     "text": [
      "(2000, 3)\n",
      "0.9501611984414394\n"
     ]
    }
   ],
   "source": [
    "X = np.array(df)  \n",
    "pca = PCA(n_components = 3) \n",
    "pca_model = pca.fit(X) \n",
    "X = pca_model.transform(X)\n",
    "print(X.shape)\n",
    "#X_test = pca_model.transform(X_test)\n",
    "model = KMeans(n_clusters=50, random_state=0).fit(X)\n",
    "labels = model.labels_\n",
    "print(davies_bouldin_score(X,labels))"
   ]
  },
  {
   "cell_type": "code",
   "execution_count": 31,
   "metadata": {},
   "outputs": [
    {
     "name": "stdout",
     "output_type": "stream",
     "text": [
      "(2000, 2)\n",
      "0.7717106562217908\n"
     ]
    }
   ],
   "source": [
    "X = np.array(df)  \n",
    "pca = PCA(n_components = 2) \n",
    "pca_model = pca.fit(X) \n",
    "X = pca_model.transform(X)\n",
    "print(X.shape)\n",
    "#X_test = pca_model.transform(X_test)\n",
    "model = KMeans(n_clusters=50, random_state=0).fit(X)\n",
    "labels = model.labels_\n",
    "print(davies_bouldin_score(X,labels))"
   ]
  },
  {
   "cell_type": "code",
   "execution_count": null,
   "metadata": {},
   "outputs": [],
   "source": [
    "features=[6732,230,79,5,1,3,2]\n",
    "Davies_bouldin_score=[2.3481303848773294,2.231850950610742,2.061145453834961,1.1733492892451283,0.4833026014648659,0.9501611984414394,0.7717106562217908]"
   ]
  }
 ],
 "metadata": {
  "kernelspec": {
   "display_name": "Python 3",
   "language": "python",
   "name": "python3"
  },
  "language_info": {
   "codemirror_mode": {
    "name": "ipython",
    "version": 3
   },
   "file_extension": ".py",
   "mimetype": "text/x-python",
   "name": "python",
   "nbconvert_exporter": "python",
   "pygments_lexer": "ipython3",
   "version": "3.7.4"
  }
 },
 "nbformat": 4,
 "nbformat_minor": 2
}
